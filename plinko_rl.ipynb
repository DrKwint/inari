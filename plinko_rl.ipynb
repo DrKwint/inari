{
 "cells": [
  {
   "cell_type": "code",
   "execution_count": 7,
   "metadata": {},
   "outputs": [],
   "source": [
    "import gym\n",
    "from inari.cdqn import CDQN\n",
    "import jax\n",
    "from flax import linen as nn\n",
    "import jax.numpy as jnp\n",
    "from tqdm import tqdm\n",
    "import numpy as np"
   ]
  },
  {
   "cell_type": "code",
   "execution_count": 8,
   "metadata": {},
   "outputs": [],
   "source": [
    "class CDQNNetwork(nn.Module):\n",
    "    num_layers: int = 2\n",
    "    hidden_units: int = 16\n",
    "\n",
    "    @nn.compact\n",
    "    def __call__(self, state: jnp.ndarray, action: jnp.ndarray) -> jnp.ndarray:\n",
    "        kernel_initializer = jax.nn.initializers.glorot_uniform()\n",
    "\n",
    "        # Preprocess inputs\n",
    "        a = action.reshape(-1)  # flatten\n",
    "        s = state.astype(jnp.float32)\n",
    "        s = state.reshape(-1)  # flatten\n",
    "        x = jnp.concatenate((s, a))\n",
    "\n",
    "        for _ in range(self.num_layers):\n",
    "            x = nn.Dense(features=self.hidden_units,\n",
    "                         kernel_init=kernel_initializer)(x)\n",
    "            x = nn.relu(x)\n",
    "\n",
    "        return nn.Dense(features=1, kernel_init=kernel_initializer)(x)"
   ]
  },
  {
   "cell_type": "code",
   "execution_count": 9,
   "metadata": {},
   "outputs": [
    {
     "name": "stderr",
     "output_type": "stream",
     "text": [
      "/Users/equint/Documents/GitHub/inari/env/lib/python3.8/site-packages/gym/logger.py:30: UserWarning: \u001b[33mWARN: Box bound precision lowered by casting to float32\u001b[0m\n",
      "  warnings.warn(colorize('%s: %s'%('WARN', msg % args), 'yellow'))\n"
     ]
    }
   ],
   "source": [
    "seed = 0\n",
    "env = gym.make('MountainCarContinuous-v0')\n",
    "obs_shape = env.observation_space.shape\n",
    "act_shape = env.action_space.shape\n",
    "rng = jax.random.PRNGKey(seed)\n",
    "cdqn = CDQN(CDQNNetwork, obs_shape, act_shape, base_dir='./tests/')"
   ]
  },
  {
   "cell_type": "code",
   "execution_count": 10,
   "metadata": {},
   "outputs": [
    {
     "name": "stderr",
     "output_type": "stream",
     "text": [
      "  3%|▎         | 1000/30000 [02:49<1:15:43,  6.38it/s]"
     ]
    },
    {
     "name": "stdout",
     "output_type": "stream",
     "text": [
      "-96.8799387493396\n"
     ]
    },
    {
     "name": "stderr",
     "output_type": "stream",
     "text": [
      "  5%|▍         | 1480/30000 [04:12<1:21:12,  5.85it/s]\n"
     ]
    },
    {
     "ename": "KeyboardInterrupt",
     "evalue": "",
     "output_type": "error",
     "traceback": [
      "\u001b[0;31m---------------------------------------------------------------------------\u001b[0m",
      "\u001b[0;31mKeyboardInterrupt\u001b[0m                         Traceback (most recent call last)",
      "\u001b[1;32m/Users/equint/Documents/GitHub/inari/plinko_rl.ipynb Cell 4'\u001b[0m in \u001b[0;36m<cell line: 3>\u001b[0;34m()\u001b[0m\n\u001b[1;32m      <a href='vscode-notebook-cell:/Users/equint/Documents/GitHub/inari/plinko_rl.ipynb#ch0000003?line=5'>6</a>\u001b[0m \u001b[39mfor\u001b[39;00m step \u001b[39min\u001b[39;00m tqdm(\u001b[39mrange\u001b[39m(\u001b[39m30000\u001b[39m)):\n\u001b[1;32m      <a href='vscode-notebook-cell:/Users/equint/Documents/GitHub/inari/plinko_rl.ipynb#ch0000003?line=6'>7</a>\u001b[0m     rng, local_rng \u001b[39m=\u001b[39m jax\u001b[39m.\u001b[39mrandom\u001b[39m.\u001b[39msplit(rng)\n\u001b[0;32m----> <a href='vscode-notebook-cell:/Users/equint/Documents/GitHub/inari/plinko_rl.ipynb#ch0000003?line=7'>8</a>\u001b[0m     act, est_q \u001b[39m=\u001b[39m cdqn\u001b[39m.\u001b[39;49mselect_action(obs, local_rng)\n\u001b[1;32m      <a href='vscode-notebook-cell:/Users/equint/Documents/GitHub/inari/plinko_rl.ipynb#ch0000003?line=8'>9</a>\u001b[0m     obs, rew, done, info \u001b[39m=\u001b[39m env\u001b[39m.\u001b[39mstep(act)\n\u001b[1;32m     <a href='vscode-notebook-cell:/Users/equint/Documents/GitHub/inari/plinko_rl.ipynb#ch0000003?line=9'>10</a>\u001b[0m     cost \u001b[39m=\u001b[39m \u001b[39m0\u001b[39m\n",
      "File \u001b[0;32m~/Documents/GitHub/inari/inari/cdqn.py:208\u001b[0m, in \u001b[0;36mCDQN.select_action\u001b[0;34m(self, state, rng, max_steps)\u001b[0m\n\u001b[1;32m    206\u001b[0m opt_state \u001b[39m=\u001b[39m optimizer\u001b[39m.\u001b[39minit(action)\n\u001b[1;32m    207\u001b[0m \u001b[39mfor\u001b[39;00m _ \u001b[39min\u001b[39;00m \u001b[39mrange\u001b[39m(max_steps):\n\u001b[0;32m--> 208\u001b[0m     action, opt_state, neg_q \u001b[39m=\u001b[39m step(opt_state, action)\n\u001b[1;32m    209\u001b[0m \u001b[39mreturn\u001b[39;00m action, \u001b[39m-\u001b[39m\u001b[39m1\u001b[39m \u001b[39m*\u001b[39m neg_q\n",
      "    \u001b[0;31m[... skipping hidden 1 frame]\u001b[0m\n",
      "File \u001b[0;32m~/Documents/GitHub/inari/env/lib/python3.8/site-packages/jax/_src/api.py:432\u001b[0m, in \u001b[0;36m_cpp_jit.<locals>.cache_miss\u001b[0;34m(*args, **kwargs)\u001b[0m\n\u001b[1;32m    430\u001b[0m   _check_arg(arg)\n\u001b[1;32m    431\u001b[0m flat_fun, out_tree \u001b[39m=\u001b[39m flatten_fun(closed_fun, in_tree)\n\u001b[0;32m--> 432\u001b[0m out_flat \u001b[39m=\u001b[39m xla\u001b[39m.\u001b[39;49mxla_call(\n\u001b[1;32m    433\u001b[0m     flat_fun, \u001b[39m*\u001b[39;49margs_flat,\n\u001b[1;32m    434\u001b[0m     device\u001b[39m=\u001b[39;49mdevice, backend\u001b[39m=\u001b[39;49mbackend, name\u001b[39m=\u001b[39;49mflat_fun\u001b[39m.\u001b[39;49m\u001b[39m__name__\u001b[39;49m,\n\u001b[1;32m    435\u001b[0m     donated_invars\u001b[39m=\u001b[39;49mdonated_invars, inline\u001b[39m=\u001b[39;49minline)\n\u001b[1;32m    436\u001b[0m out_pytree_def \u001b[39m=\u001b[39m out_tree()\n\u001b[1;32m    437\u001b[0m out \u001b[39m=\u001b[39m tree_unflatten(out_pytree_def, out_flat)\n",
      "File \u001b[0;32m~/Documents/GitHub/inari/env/lib/python3.8/site-packages/jax/core.py:1709\u001b[0m, in \u001b[0;36mCallPrimitive.bind\u001b[0;34m(self, fun, *args, **params)\u001b[0m\n\u001b[1;32m   1708\u001b[0m \u001b[39mdef\u001b[39;00m \u001b[39mbind\u001b[39m(\u001b[39mself\u001b[39m, fun, \u001b[39m*\u001b[39margs, \u001b[39m*\u001b[39m\u001b[39m*\u001b[39mparams):\n\u001b[0;32m-> 1709\u001b[0m   \u001b[39mreturn\u001b[39;00m call_bind(\u001b[39mself\u001b[39;49m, fun, \u001b[39m*\u001b[39;49margs, \u001b[39m*\u001b[39;49m\u001b[39m*\u001b[39;49mparams)\n",
      "File \u001b[0;32m~/Documents/GitHub/inari/env/lib/python3.8/site-packages/jax/core.py:1721\u001b[0m, in \u001b[0;36mcall_bind\u001b[0;34m(primitive, fun, *args, **params)\u001b[0m\n\u001b[1;32m   1718\u001b[0m fun, env_trace_todo \u001b[39m=\u001b[39m process_env_traces_call(\n\u001b[1;32m   1719\u001b[0m     fun, primitive, top_trace \u001b[39mand\u001b[39;00m top_trace\u001b[39m.\u001b[39mlevel, \u001b[39mtuple\u001b[39m(params\u001b[39m.\u001b[39mitems()))\n\u001b[1;32m   1720\u001b[0m tracers \u001b[39m=\u001b[39m \u001b[39mmap\u001b[39m(top_trace\u001b[39m.\u001b[39mfull_raise, args)\n\u001b[0;32m-> 1721\u001b[0m outs \u001b[39m=\u001b[39m top_trace\u001b[39m.\u001b[39;49mprocess_call(primitive, fun, tracers, params)\n\u001b[1;32m   1722\u001b[0m \u001b[39mreturn\u001b[39;00m \u001b[39mmap\u001b[39m(full_lower, apply_todos(env_trace_todo(), outs))\n",
      "File \u001b[0;32m~/Documents/GitHub/inari/env/lib/python3.8/site-packages/jax/core.py:614\u001b[0m, in \u001b[0;36mEvalTrace.process_call\u001b[0;34m(self, primitive, f, tracers, params)\u001b[0m\n\u001b[1;32m    613\u001b[0m \u001b[39mdef\u001b[39;00m \u001b[39mprocess_call\u001b[39m(\u001b[39mself\u001b[39m, primitive, f, tracers, params):\n\u001b[0;32m--> 614\u001b[0m   \u001b[39mreturn\u001b[39;00m primitive\u001b[39m.\u001b[39;49mimpl(f, \u001b[39m*\u001b[39;49mtracers, \u001b[39m*\u001b[39;49m\u001b[39m*\u001b[39;49mparams)\n",
      "File \u001b[0;32m~/Documents/GitHub/inari/env/lib/python3.8/site-packages/jax/_src/dispatch.py:142\u001b[0m, in \u001b[0;36m_xla_call_impl\u001b[0;34m(***failed resolving arguments***)\u001b[0m\n\u001b[1;32m    139\u001b[0m \u001b[39mdef\u001b[39;00m \u001b[39m_xla_call_impl\u001b[39m(fun: lu\u001b[39m.\u001b[39mWrappedFun, \u001b[39m*\u001b[39margs, device, backend, name,\n\u001b[1;32m    140\u001b[0m                    donated_invars, inline):\n\u001b[1;32m    141\u001b[0m   \u001b[39mdel\u001b[39;00m inline  \u001b[39m# Only used at tracing time\u001b[39;00m\n\u001b[0;32m--> 142\u001b[0m   compiled_fun \u001b[39m=\u001b[39m _xla_callable(fun, device, backend, name, donated_invars,\n\u001b[1;32m    143\u001b[0m                                \u001b[39m*\u001b[39;49munsafe_map(arg_spec, args))\n\u001b[1;32m    144\u001b[0m   \u001b[39mtry\u001b[39;00m:\n\u001b[1;32m    145\u001b[0m     out \u001b[39m=\u001b[39m compiled_fun(\u001b[39m*\u001b[39margs)\n",
      "File \u001b[0;32m~/Documents/GitHub/inari/env/lib/python3.8/site-packages/jax/linear_util.py:272\u001b[0m, in \u001b[0;36mcache.<locals>.memoized_fun\u001b[0;34m(fun, *args)\u001b[0m\n\u001b[1;32m    270\u001b[0m   fun\u001b[39m.\u001b[39mpopulate_stores(stores)\n\u001b[1;32m    271\u001b[0m \u001b[39melse\u001b[39;00m:\n\u001b[0;32m--> 272\u001b[0m   ans \u001b[39m=\u001b[39m call(fun, \u001b[39m*\u001b[39;49margs)\n\u001b[1;32m    273\u001b[0m   cache[key] \u001b[39m=\u001b[39m (ans, fun\u001b[39m.\u001b[39mstores)\n\u001b[1;32m    275\u001b[0m thread_local\u001b[39m.\u001b[39mmost_recent_entry \u001b[39m=\u001b[39m weakref\u001b[39m.\u001b[39mref(ans)\n",
      "File \u001b[0;32m~/Documents/GitHub/inari/env/lib/python3.8/site-packages/jax/_src/dispatch.py:169\u001b[0m, in \u001b[0;36m_xla_callable_uncached\u001b[0;34m(fun, device, backend, name, donated_invars, *arg_specs)\u001b[0m\n\u001b[1;32m    167\u001b[0m \u001b[39mdef\u001b[39;00m \u001b[39m_xla_callable_uncached\u001b[39m(fun: lu\u001b[39m.\u001b[39mWrappedFun, device, backend, name,\n\u001b[1;32m    168\u001b[0m                            donated_invars, \u001b[39m*\u001b[39marg_specs):\n\u001b[0;32m--> 169\u001b[0m   \u001b[39mreturn\u001b[39;00m lower_xla_callable(fun, device, backend, name, donated_invars,\n\u001b[1;32m    170\u001b[0m                             \u001b[39m*\u001b[39;49marg_specs)\u001b[39m.\u001b[39;49mcompile()\u001b[39m.\u001b[39munsafe_call\n",
      "File \u001b[0;32m~/Documents/GitHub/inari/env/lib/python3.8/site-packages/jax/_src/dispatch.py:528\u001b[0m, in \u001b[0;36mXlaComputation.compile\u001b[0;34m(self)\u001b[0m\n\u001b[1;32m    525\u001b[0m     \u001b[39mself\u001b[39m\u001b[39m.\u001b[39m_executable \u001b[39m=\u001b[39m XlaCompiledComputation\u001b[39m.\u001b[39mfrom_trivial_jaxpr(\n\u001b[1;32m    526\u001b[0m         \u001b[39m*\u001b[39m\u001b[39m*\u001b[39m\u001b[39mself\u001b[39m\u001b[39m.\u001b[39mcompile_args)\n\u001b[1;32m    527\u001b[0m   \u001b[39melse\u001b[39;00m:\n\u001b[0;32m--> 528\u001b[0m     \u001b[39mself\u001b[39m\u001b[39m.\u001b[39m_executable \u001b[39m=\u001b[39m XlaCompiledComputation\u001b[39m.\u001b[39;49mfrom_xla_computation(\n\u001b[1;32m    529\u001b[0m         \u001b[39mself\u001b[39;49m\u001b[39m.\u001b[39;49mname, \u001b[39mself\u001b[39;49m\u001b[39m.\u001b[39;49m_hlo, \u001b[39m*\u001b[39;49m\u001b[39m*\u001b[39;49m\u001b[39mself\u001b[39;49m\u001b[39m.\u001b[39;49mcompile_args)\n\u001b[1;32m    531\u001b[0m \u001b[39mreturn\u001b[39;00m \u001b[39mself\u001b[39m\u001b[39m.\u001b[39m_executable\n",
      "File \u001b[0;32m~/Documents/GitHub/inari/env/lib/python3.8/site-packages/jax/_src/dispatch.py:614\u001b[0m, in \u001b[0;36mXlaCompiledComputation.from_xla_computation\u001b[0;34m(name, xla_computation, nreps, device, backend, tuple_args, in_avals, out_avals, kept_var_idx)\u001b[0m\n\u001b[1;32m    611\u001b[0m options\u001b[39m.\u001b[39mparameter_is_tupled_arguments \u001b[39m=\u001b[39m tuple_args\n\u001b[1;32m    612\u001b[0m \u001b[39mwith\u001b[39;00m log_elapsed_time(\u001b[39mf\u001b[39m\u001b[39m\"\u001b[39m\u001b[39mFinished XLA compilation of \u001b[39m\u001b[39m{\u001b[39;00mname\u001b[39m}\u001b[39;00m\u001b[39m \u001b[39m\u001b[39m\"\u001b[39m\n\u001b[1;32m    613\u001b[0m                       \u001b[39m\"\u001b[39m\u001b[39min \u001b[39m\u001b[39m{elapsed_time}\u001b[39;00m\u001b[39m sec\u001b[39m\u001b[39m\"\u001b[39m):\n\u001b[0;32m--> 614\u001b[0m   compiled \u001b[39m=\u001b[39m compile_or_get_cached(backend, xla_computation, options)\n\u001b[1;32m    615\u001b[0m buffer_counts \u001b[39m=\u001b[39m (\u001b[39mNone\u001b[39;00m \u001b[39mif\u001b[39;00m \u001b[39mlen\u001b[39m(out_avals) \u001b[39m==\u001b[39m \u001b[39m1\u001b[39m \u001b[39melse\u001b[39;00m\n\u001b[1;32m    616\u001b[0m                  [aval_to_num_buffers(aval) \u001b[39mfor\u001b[39;00m aval \u001b[39min\u001b[39;00m out_avals])\n\u001b[1;32m    617\u001b[0m execute \u001b[39m=\u001b[39m _execute_compiled \u001b[39mif\u001b[39;00m nreps \u001b[39m==\u001b[39m \u001b[39m1\u001b[39m \u001b[39melse\u001b[39;00m _execute_replicated\n",
      "File \u001b[0;32m~/Documents/GitHub/inari/env/lib/python3.8/site-packages/jax/_src/dispatch.py:583\u001b[0m, in \u001b[0;36mcompile_or_get_cached\u001b[0;34m(backend, computation, compile_options)\u001b[0m\n\u001b[1;32m    580\u001b[0m   ir_str \u001b[39m=\u001b[39m (computation \u001b[39mif\u001b[39;00m \u001b[39misinstance\u001b[39m(computation, \u001b[39mstr\u001b[39m)\n\u001b[1;32m    581\u001b[0m             \u001b[39melse\u001b[39;00m computation\u001b[39m.\u001b[39mas_hlo_text())\n\u001b[1;32m    582\u001b[0m   _dump_ir_to_file(module_name, ir_str)\n\u001b[0;32m--> 583\u001b[0m \u001b[39mreturn\u001b[39;00m backend_compile(backend, computation, compile_options)\n",
      "File \u001b[0;32m~/Documents/GitHub/inari/env/lib/python3.8/site-packages/jax/_src/profiler.py:206\u001b[0m, in \u001b[0;36mannotate_function.<locals>.wrapper\u001b[0;34m(*args, **kwargs)\u001b[0m\n\u001b[1;32m    203\u001b[0m \u001b[39m@wraps\u001b[39m(func)\n\u001b[1;32m    204\u001b[0m \u001b[39mdef\u001b[39;00m \u001b[39mwrapper\u001b[39m(\u001b[39m*\u001b[39margs, \u001b[39m*\u001b[39m\u001b[39m*\u001b[39mkwargs):\n\u001b[1;32m    205\u001b[0m   \u001b[39mwith\u001b[39;00m TraceAnnotation(name, \u001b[39m*\u001b[39m\u001b[39m*\u001b[39mdecorator_kwargs):\n\u001b[0;32m--> 206\u001b[0m     \u001b[39mreturn\u001b[39;00m func(\u001b[39m*\u001b[39;49margs, \u001b[39m*\u001b[39;49m\u001b[39m*\u001b[39;49mkwargs)\n\u001b[1;32m    207\u001b[0m   \u001b[39mreturn\u001b[39;00m wrapper\n",
      "File \u001b[0;32m~/Documents/GitHub/inari/env/lib/python3.8/site-packages/jax/_src/dispatch.py:537\u001b[0m, in \u001b[0;36mbackend_compile\u001b[0;34m(backend, built_c, options)\u001b[0m\n\u001b[1;32m    533\u001b[0m \u001b[39m@profiler\u001b[39m\u001b[39m.\u001b[39mannotate_function\n\u001b[1;32m    534\u001b[0m \u001b[39mdef\u001b[39;00m \u001b[39mbackend_compile\u001b[39m(backend, built_c, options):\n\u001b[1;32m    535\u001b[0m   \u001b[39m# we use a separate function call to ensure that XLA compilation appears\u001b[39;00m\n\u001b[1;32m    536\u001b[0m   \u001b[39m# separately in Python profiling results\u001b[39;00m\n\u001b[0;32m--> 537\u001b[0m   \u001b[39mreturn\u001b[39;00m backend\u001b[39m.\u001b[39;49mcompile(built_c, compile_options\u001b[39m=\u001b[39;49moptions)\n",
      "\u001b[0;31mKeyboardInterrupt\u001b[0m: "
     ]
    }
   ],
   "source": [
    "obs = env.reset()\n",
    "done = False\n",
    "for epoch in range(10):\n",
    "    epoch_ep_rewards = []\n",
    "    cum_ep_reward = 0\n",
    "    for step in tqdm(range(30000)):\n",
    "        rng, local_rng = jax.random.split(rng)\n",
    "        act, est_q = cdqn.select_action(obs, local_rng)\n",
    "        cdqn.network_def.apply(cdqn.online_params, obs, np.)[0]\n",
    "        obs, rew, done, info = env.step(act)\n",
    "        cost = 0\n",
    "        cum_ep_reward += rew\n",
    "        cdqn.store_transition(obs, np.array(act), rew, done)\n",
    "        cdqn.train_step()\n",
    "        if done:\n",
    "            #with cdqn.summary_writer.as_default():\n",
    "            #    tf.summary.scalar(\"ep_reward\",\n",
    "            #                        cum_ep_reward,\n",
    "            #                        step=epoch * 30000 + step)\n",
    "            print(cum_ep_reward)\n",
    "            obs = env.reset()\n",
    "            epoch_ep_rewards.append(cum_ep_reward)\n",
    "            cum_ep_reward = 0\n",
    "    print(\"Mean episode reward:\", np.mean(epoch_ep_rewards))"
   ]
  },
  {
   "cell_type": "code",
   "execution_count": null,
   "metadata": {},
   "outputs": [],
   "source": []
  }
 ],
 "metadata": {
  "kernelspec": {
   "display_name": "Python 3.8.13 ('env': venv)",
   "language": "python",
   "name": "python3"
  },
  "language_info": {
   "codemirror_mode": {
    "name": "ipython",
    "version": 3
   },
   "file_extension": ".py",
   "mimetype": "text/x-python",
   "name": "python",
   "nbconvert_exporter": "python",
   "pygments_lexer": "ipython3",
   "version": "3.8.13"
  },
  "orig_nbformat": 4,
  "vscode": {
   "interpreter": {
    "hash": "b65145852783e9c7205dc9a03bc37915289fb7284de0b0350e5dcaa4bb0c2e2e"
   }
  }
 },
 "nbformat": 4,
 "nbformat_minor": 2
}
